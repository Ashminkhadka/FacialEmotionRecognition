{
 "cells": [
  {
   "cell_type": "code",
   "execution_count": 1,
   "id": "2a5f7dcd",
   "metadata": {},
   "outputs": [
    {
     "name": "stdout",
     "output_type": "stream",
     "text": [
      "WARNING:tensorflow:From c:\\Users\\ashmi\\AppData\\Local\\Programs\\Python\\Python311\\Lib\\site-packages\\keras\\src\\losses.py:2976: The name tf.losses.sparse_softmax_cross_entropy is deprecated. Please use tf.compat.v1.losses.sparse_softmax_cross_entropy instead.\n",
      "\n"
     ]
    }
   ],
   "source": [
    "from keras.utils import to_categorical\n",
    "from keras_preprocessing.image import load_img\n",
    "from keras.models import Sequential\n",
    "from keras.layers import Dense,Conv2D, Dropout, Flatten, MaxPooling2D\n",
    "import tensorflow as tf"
   ]
  },
  {
   "cell_type": "code",
   "execution_count": 2,
   "id": "9f0e87c0-e8ab-45a5-bc1c-2650bfaa4496",
   "metadata": {},
   "outputs": [],
   "source": [
    "import os \n",
    "import pandas as pd\n",
    "import numpy as np"
   ]
  },
  {
   "cell_type": "code",
   "execution_count": 3,
   "id": "8015f503",
   "metadata": {},
   "outputs": [],
   "source": [
    "TRAIN_DIR = 'train'\n",
    "TEST_DIR = 'test'"
   ]
  },
  {
   "cell_type": "code",
   "execution_count": 4,
   "id": "6ac14519",
   "metadata": {},
   "outputs": [],
   "source": [
    "def createdataframe(dir):\n",
    "    image_paths = []\n",
    "    labels = []\n",
    "    for label in os.listdir(dir):\n",
    "        for imagename in os.listdir(os.path.join(dir, label)) :\n",
    "            image_paths.append(os.path.join(dir, label, imagename))\n",
    "            labels.append(label)\n",
    "        print(label, \"completed\")\n",
    "    return image_paths, labels"
   ]
  },
  {
   "cell_type": "code",
   "execution_count": 5,
   "id": "311c044d",
   "metadata": {},
   "outputs": [
    {
     "name": "stdout",
     "output_type": "stream",
     "text": [
      "angry completed\n",
      "disgust completed\n",
      "fear completed\n",
      "happy completed\n",
      "neutral completed\n",
      "sad completed\n",
      "surprise completed\n"
     ]
    }
   ],
   "source": [
    "train = pd.DataFrame()\n",
    "train['image'],train['label'] = createdataframe(TRAIN_DIR)"
   ]
  },
  {
   "cell_type": "code",
   "execution_count": 6,
   "id": "6f665a5f",
   "metadata": {},
   "outputs": [
    {
     "name": "stdout",
     "output_type": "stream",
     "text": [
      "                                      image     label\n",
      "0         train\\angry\\Training_10118481.jpg     angry\n",
      "1         train\\angry\\Training_10120469.jpg     angry\n",
      "2         train\\angry\\Training_10131352.jpg     angry\n",
      "3         train\\angry\\Training_10161559.jpg     angry\n",
      "4          train\\angry\\Training_1021836.jpg     angry\n",
      "...                                     ...       ...\n",
      "28704  train\\surprise\\Training_99916297.jpg  surprise\n",
      "28705  train\\surprise\\Training_99924420.jpg  surprise\n",
      "28706  train\\surprise\\Training_99937001.jpg  surprise\n",
      "28707  train\\surprise\\Training_99951755.jpg  surprise\n",
      "28708  train\\surprise\\Training_99984132.jpg  surprise\n",
      "\n",
      "[28709 rows x 2 columns]\n"
     ]
    }
   ],
   "source": [
    "print(train)"
   ]
  },
  {
   "cell_type": "code",
   "execution_count": 7,
   "id": "dc20a2d7",
   "metadata": {},
   "outputs": [
    {
     "name": "stdout",
     "output_type": "stream",
     "text": [
      "angry completed\n",
      "disgust completed\n",
      "fear completed\n",
      "happy completed\n",
      "neutral completed\n",
      "sad completed\n",
      "surprise completed\n"
     ]
    }
   ],
   "source": [
    "test = pd.DataFrame()\n",
    "test['image'],test['label'] = createdataframe(TEST_DIR)"
   ]
  },
  {
   "cell_type": "code",
   "execution_count": 8,
   "id": "145be8e7",
   "metadata": {},
   "outputs": [
    {
     "name": "stdout",
     "output_type": "stream",
     "text": [
      "                                      image     label\n",
      "0       test\\angry\\PrivateTest_10131363.jpg     angry\n",
      "1       test\\angry\\PrivateTest_10304478.jpg     angry\n",
      "2        test\\angry\\PrivateTest_1054527.jpg     angry\n",
      "3       test\\angry\\PrivateTest_10590091.jpg     angry\n",
      "4        test\\angry\\PrivateTest_1109992.jpg     angry\n",
      "...                                     ...       ...\n",
      "7173  test\\surprise\\PublicTest_98089595.jpg  surprise\n",
      "7174  test\\surprise\\PublicTest_98567249.jpg  surprise\n",
      "7175  test\\surprise\\PublicTest_98972870.jpg  surprise\n",
      "7176  test\\surprise\\PublicTest_99242645.jpg  surprise\n",
      "7177  test\\surprise\\PublicTest_99446963.jpg  surprise\n",
      "\n",
      "[7178 rows x 2 columns]\n"
     ]
    }
   ],
   "source": [
    "print(test)"
   ]
  },
  {
   "cell_type": "code",
   "execution_count": 9,
   "id": "6f89d117",
   "metadata": {},
   "outputs": [
    {
     "name": "stdout",
     "output_type": "stream",
     "text": [
      "                                      image     label\n",
      "0       test\\angry\\PrivateTest_10131363.jpg     angry\n",
      "1       test\\angry\\PrivateTest_10304478.jpg     angry\n",
      "2        test\\angry\\PrivateTest_1054527.jpg     angry\n",
      "3       test\\angry\\PrivateTest_10590091.jpg     angry\n",
      "4        test\\angry\\PrivateTest_1109992.jpg     angry\n",
      "...                                     ...       ...\n",
      "7173  test\\surprise\\PublicTest_98089595.jpg  surprise\n",
      "7174  test\\surprise\\PublicTest_98567249.jpg  surprise\n",
      "7175  test\\surprise\\PublicTest_98972870.jpg  surprise\n",
      "7176  test\\surprise\\PublicTest_99242645.jpg  surprise\n",
      "7177  test\\surprise\\PublicTest_99446963.jpg  surprise\n",
      "\n",
      "[7178 rows x 2 columns]\n",
      "0         test\\angry\\PrivateTest_10131363.jpg\n",
      "1         test\\angry\\PrivateTest_10304478.jpg\n",
      "2          test\\angry\\PrivateTest_1054527.jpg\n",
      "3         test\\angry\\PrivateTest_10590091.jpg\n",
      "4          test\\angry\\PrivateTest_1109992.jpg\n",
      "                        ...                  \n",
      "7173    test\\surprise\\PublicTest_98089595.jpg\n",
      "7174    test\\surprise\\PublicTest_98567249.jpg\n",
      "7175    test\\surprise\\PublicTest_98972870.jpg\n",
      "7176    test\\surprise\\PublicTest_99242645.jpg\n",
      "7177    test\\surprise\\PublicTest_99446963.jpg\n",
      "Name: image, Length: 7178, dtype: object\n"
     ]
    }
   ],
   "source": [
    "print(test)\n",
    "print(test['image'])"
   ]
  },
  {
   "cell_type": "code",
   "execution_count": 10,
   "id": "953b1dde-efd5-468e-b69d-2c82dfa88304",
   "metadata": {},
   "outputs": [],
   "source": [
    "from tqdm import tqdm"
   ]
  },
  {
   "cell_type": "code",
   "execution_count": 11,
   "id": "2192fb80",
   "metadata": {},
   "outputs": [],
   "source": [
    "def extract_features(images):\n",
    "    features = []\n",
    "    for image in tqdm(images):\n",
    "        img = load_img(image,grayscale = True)\n",
    "        img = np.array(img)\n",
    "        features.append(img)\n",
    "    features = np.array(features)\n",
    "    features = features.reshape(len(features),48,48,1)\n",
    "    return features"
   ]
  },
  {
   "cell_type": "code",
   "execution_count": 12,
   "id": "d0bce7a7",
   "metadata": {},
   "outputs": [
    {
     "name": "stderr",
     "output_type": "stream",
     "text": [
      "  0%|          | 0/28709 [00:00<?, ?it/s]c:\\Users\\ashmi\\AppData\\Local\\Programs\\Python\\Python311\\Lib\\site-packages\\keras_preprocessing\\image\\utils.py:107: UserWarning: grayscale is deprecated. Please use color_mode = \"grayscale\"\n",
      "  warnings.warn('grayscale is deprecated. Please use '\n",
      "100%|██████████| 28709/28709 [02:03<00:00, 233.12it/s]\n"
     ]
    }
   ],
   "source": [
    "train_features = extract_features(train['image'])"
   ]
  },
  {
   "cell_type": "code",
   "execution_count": 13,
   "id": "5cc77425-8085-4cff-9463-2e1de94dced9",
   "metadata": {},
   "outputs": [
    {
     "name": "stderr",
     "output_type": "stream",
     "text": [
      "100%|██████████| 7178/7178 [00:30<00:00, 239.11it/s]\n"
     ]
    }
   ],
   "source": [
    "test_features = extract_features(test['image'])"
   ]
  },
  {
   "cell_type": "code",
   "execution_count": 14,
   "id": "c8184436",
   "metadata": {},
   "outputs": [],
   "source": [
    "from keras_preprocessing.image.utils import load_img"
   ]
  },
  {
   "cell_type": "code",
   "execution_count": 15,
   "id": "bf2fd611",
   "metadata": {},
   "outputs": [],
   "source": [
    "from PIL import Image"
   ]
  },
  {
   "cell_type": "code",
   "execution_count": 16,
   "id": "1fa86841",
   "metadata": {},
   "outputs": [],
   "source": [
    "import cv2\n",
    "import numpy as np\n",
    "from tqdm import tqdm\n",
    "\n",
    "def extract_features(images):\n",
    "    features = []\n",
    "    for image_path in tqdm(images, desc=\"Extracting Features\"):\n",
    "        img = cv2.imread(image_path, cv2.IMREAD_GRAYSCALE)\n",
    "        features.append(img)\n",
    "    return features"
   ]
  },
  {
   "cell_type": "code",
   "execution_count": 17,
   "id": "17c18207",
   "metadata": {},
   "outputs": [],
   "source": [
    "import numpy as np"
   ]
  },
  {
   "cell_type": "code",
   "execution_count": 18,
   "id": "10c8bb14",
   "metadata": {},
   "outputs": [],
   "source": [
    "train_features = np.array(train_features)\n",
    "test_features = np.array(test_features)"
   ]
  },
  {
   "cell_type": "code",
   "execution_count": 19,
   "id": "b4c8c6c6",
   "metadata": {},
   "outputs": [],
   "source": [
    "x_train = train_features/255.0\n",
    "x_test = test_features/255.0"
   ]
  },
  {
   "cell_type": "code",
   "execution_count": 20,
   "id": "0960257f",
   "metadata": {},
   "outputs": [],
   "source": [
    "from sklearn.preprocessing import LabelEncoder"
   ]
  },
  {
   "cell_type": "code",
   "execution_count": 21,
   "id": "af4d9515",
   "metadata": {},
   "outputs": [
    {
     "data": {
      "text/html": [
       "<style>#sk-container-id-1 {color: black;}#sk-container-id-1 pre{padding: 0;}#sk-container-id-1 div.sk-toggleable {background-color: white;}#sk-container-id-1 label.sk-toggleable__label {cursor: pointer;display: block;width: 100%;margin-bottom: 0;padding: 0.3em;box-sizing: border-box;text-align: center;}#sk-container-id-1 label.sk-toggleable__label-arrow:before {content: \"▸\";float: left;margin-right: 0.25em;color: #696969;}#sk-container-id-1 label.sk-toggleable__label-arrow:hover:before {color: black;}#sk-container-id-1 div.sk-estimator:hover label.sk-toggleable__label-arrow:before {color: black;}#sk-container-id-1 div.sk-toggleable__content {max-height: 0;max-width: 0;overflow: hidden;text-align: left;background-color: #f0f8ff;}#sk-container-id-1 div.sk-toggleable__content pre {margin: 0.2em;color: black;border-radius: 0.25em;background-color: #f0f8ff;}#sk-container-id-1 input.sk-toggleable__control:checked~div.sk-toggleable__content {max-height: 200px;max-width: 100%;overflow: auto;}#sk-container-id-1 input.sk-toggleable__control:checked~label.sk-toggleable__label-arrow:before {content: \"▾\";}#sk-container-id-1 div.sk-estimator input.sk-toggleable__control:checked~label.sk-toggleable__label {background-color: #d4ebff;}#sk-container-id-1 div.sk-label input.sk-toggleable__control:checked~label.sk-toggleable__label {background-color: #d4ebff;}#sk-container-id-1 input.sk-hidden--visually {border: 0;clip: rect(1px 1px 1px 1px);clip: rect(1px, 1px, 1px, 1px);height: 1px;margin: -1px;overflow: hidden;padding: 0;position: absolute;width: 1px;}#sk-container-id-1 div.sk-estimator {font-family: monospace;background-color: #f0f8ff;border: 1px dotted black;border-radius: 0.25em;box-sizing: border-box;margin-bottom: 0.5em;}#sk-container-id-1 div.sk-estimator:hover {background-color: #d4ebff;}#sk-container-id-1 div.sk-parallel-item::after {content: \"\";width: 100%;border-bottom: 1px solid gray;flex-grow: 1;}#sk-container-id-1 div.sk-label:hover label.sk-toggleable__label {background-color: #d4ebff;}#sk-container-id-1 div.sk-serial::before {content: \"\";position: absolute;border-left: 1px solid gray;box-sizing: border-box;top: 0;bottom: 0;left: 50%;z-index: 0;}#sk-container-id-1 div.sk-serial {display: flex;flex-direction: column;align-items: center;background-color: white;padding-right: 0.2em;padding-left: 0.2em;position: relative;}#sk-container-id-1 div.sk-item {position: relative;z-index: 1;}#sk-container-id-1 div.sk-parallel {display: flex;align-items: stretch;justify-content: center;background-color: white;position: relative;}#sk-container-id-1 div.sk-item::before, #sk-container-id-1 div.sk-parallel-item::before {content: \"\";position: absolute;border-left: 1px solid gray;box-sizing: border-box;top: 0;bottom: 0;left: 50%;z-index: -1;}#sk-container-id-1 div.sk-parallel-item {display: flex;flex-direction: column;z-index: 1;position: relative;background-color: white;}#sk-container-id-1 div.sk-parallel-item:first-child::after {align-self: flex-end;width: 50%;}#sk-container-id-1 div.sk-parallel-item:last-child::after {align-self: flex-start;width: 50%;}#sk-container-id-1 div.sk-parallel-item:only-child::after {width: 0;}#sk-container-id-1 div.sk-dashed-wrapped {border: 1px dashed gray;margin: 0 0.4em 0.5em 0.4em;box-sizing: border-box;padding-bottom: 0.4em;background-color: white;}#sk-container-id-1 div.sk-label label {font-family: monospace;font-weight: bold;display: inline-block;line-height: 1.2em;}#sk-container-id-1 div.sk-label-container {text-align: center;}#sk-container-id-1 div.sk-container {/* jupyter's `normalize.less` sets `[hidden] { display: none; }` but bootstrap.min.css set `[hidden] { display: none !important; }` so we also need the `!important` here to be able to override the default hidden behavior on the sphinx rendered scikit-learn.org. See: https://github.com/scikit-learn/scikit-learn/issues/21755 */display: inline-block !important;position: relative;}#sk-container-id-1 div.sk-text-repr-fallback {display: none;}</style><div id=\"sk-container-id-1\" class=\"sk-top-container\"><div class=\"sk-text-repr-fallback\"><pre>LabelEncoder()</pre><b>In a Jupyter environment, please rerun this cell to show the HTML representation or trust the notebook. <br />On GitHub, the HTML representation is unable to render, please try loading this page with nbviewer.org.</b></div><div class=\"sk-container\" hidden><div class=\"sk-item\"><div class=\"sk-estimator sk-toggleable\"><input class=\"sk-toggleable__control sk-hidden--visually\" id=\"sk-estimator-id-1\" type=\"checkbox\" checked><label for=\"sk-estimator-id-1\" class=\"sk-toggleable__label sk-toggleable__label-arrow\">LabelEncoder</label><div class=\"sk-toggleable__content\"><pre>LabelEncoder()</pre></div></div></div></div></div>"
      ],
      "text/plain": [
       "LabelEncoder()"
      ]
     },
     "execution_count": 21,
     "metadata": {},
     "output_type": "execute_result"
    }
   ],
   "source": [
    "le = LabelEncoder()\n",
    "le.fit(train['label'])"
   ]
  },
  {
   "cell_type": "code",
   "execution_count": 22,
   "id": "e5a09403",
   "metadata": {},
   "outputs": [],
   "source": [
    "y_train = le.transform(train['label'])\n",
    "y_test = le.transform(test['label'])"
   ]
  },
  {
   "cell_type": "code",
   "execution_count": 23,
   "id": "ad68e941",
   "metadata": {},
   "outputs": [],
   "source": [
    "y_train = to_categorical(y_train,num_classes=7)\n",
    "y_test = to_categorical(y_test,num_classes=7)"
   ]
  },
  {
   "cell_type": "code",
   "execution_count": 24,
   "id": "5c8e9719",
   "metadata": {},
   "outputs": [
    {
     "data": {
      "text/plain": [
       "array([[[[0.19607843],\n",
       "         [0.1254902 ],\n",
       "         [0.05882353],\n",
       "         ...,\n",
       "         [0.52156863],\n",
       "         [0.59215686],\n",
       "         [0.3372549 ]],\n",
       "\n",
       "        [[0.22352941],\n",
       "         [0.13333333],\n",
       "         [0.08627451],\n",
       "         ...,\n",
       "         [0.54117647],\n",
       "         [0.59215686],\n",
       "         [0.34901961]],\n",
       "\n",
       "        [[0.23921569],\n",
       "         [0.11764706],\n",
       "         [0.09411765],\n",
       "         ...,\n",
       "         [0.55686275],\n",
       "         [0.58431373],\n",
       "         [0.34901961]],\n",
       "\n",
       "        ...,\n",
       "\n",
       "        [[0.40392157],\n",
       "         [0.39215686],\n",
       "         [0.39215686],\n",
       "         ...,\n",
       "         [0.58431373],\n",
       "         [0.40784314],\n",
       "         [0.33333333]],\n",
       "\n",
       "        [[0.41960784],\n",
       "         [0.43529412],\n",
       "         [0.44313725],\n",
       "         ...,\n",
       "         [0.59215686],\n",
       "         [0.47058824],\n",
       "         [0.3372549 ]],\n",
       "\n",
       "        [[0.40784314],\n",
       "         [0.40784314],\n",
       "         [0.43921569],\n",
       "         ...,\n",
       "         [0.56078431],\n",
       "         [0.53333333],\n",
       "         [0.3254902 ]]],\n",
       "\n",
       "\n",
       "       [[[0.11372549],\n",
       "         [0.09411765],\n",
       "         [0.11372549],\n",
       "         ...,\n",
       "         [0.04313725],\n",
       "         [0.04705882],\n",
       "         [0.06666667]],\n",
       "\n",
       "        [[0.06666667],\n",
       "         [0.05490196],\n",
       "         [0.05490196],\n",
       "         ...,\n",
       "         [0.05882353],\n",
       "         [0.07843137],\n",
       "         [0.09019608]],\n",
       "\n",
       "        [[0.        ],\n",
       "         [0.01568627],\n",
       "         [0.01176471],\n",
       "         ...,\n",
       "         [0.12941176],\n",
       "         [0.1372549 ],\n",
       "         [0.09019608]],\n",
       "\n",
       "        ...,\n",
       "\n",
       "        [[0.98039216],\n",
       "         [0.97254902],\n",
       "         [0.96862745],\n",
       "         ...,\n",
       "         [0.17254902],\n",
       "         [0.18431373],\n",
       "         [0.16862745]],\n",
       "\n",
       "        [[0.96862745],\n",
       "         [0.97254902],\n",
       "         [0.97254902],\n",
       "         ...,\n",
       "         [0.16078431],\n",
       "         [0.22745098],\n",
       "         [0.21568627]],\n",
       "\n",
       "        [[0.97647059],\n",
       "         [0.97254902],\n",
       "         [0.95686275],\n",
       "         ...,\n",
       "         [0.05882353],\n",
       "         [0.09411765],\n",
       "         [0.09411765]]],\n",
       "\n",
       "\n",
       "       [[[0.        ],\n",
       "         [0.        ],\n",
       "         [0.        ],\n",
       "         ...,\n",
       "         [0.        ],\n",
       "         [0.        ],\n",
       "         [0.        ]],\n",
       "\n",
       "        [[0.        ],\n",
       "         [0.        ],\n",
       "         [0.        ],\n",
       "         ...,\n",
       "         [0.        ],\n",
       "         [0.        ],\n",
       "         [0.        ]],\n",
       "\n",
       "        [[0.        ],\n",
       "         [0.        ],\n",
       "         [0.        ],\n",
       "         ...,\n",
       "         [0.        ],\n",
       "         [0.        ],\n",
       "         [0.        ]],\n",
       "\n",
       "        ...,\n",
       "\n",
       "        [[0.        ],\n",
       "         [0.        ],\n",
       "         [0.        ],\n",
       "         ...,\n",
       "         [0.        ],\n",
       "         [0.        ],\n",
       "         [0.        ]],\n",
       "\n",
       "        [[0.        ],\n",
       "         [0.        ],\n",
       "         [0.        ],\n",
       "         ...,\n",
       "         [0.        ],\n",
       "         [0.        ],\n",
       "         [0.        ]],\n",
       "\n",
       "        [[0.        ],\n",
       "         [0.        ],\n",
       "         [0.        ],\n",
       "         ...,\n",
       "         [0.        ],\n",
       "         [0.        ],\n",
       "         [0.        ]]],\n",
       "\n",
       "\n",
       "       ...,\n",
       "\n",
       "\n",
       "       [[[0.48627451],\n",
       "         [0.50588235],\n",
       "         [0.49019608],\n",
       "         ...,\n",
       "         [0.52156863],\n",
       "         [0.51372549],\n",
       "         [0.49803922]],\n",
       "\n",
       "        [[0.51372549],\n",
       "         [0.50980392],\n",
       "         [0.50980392],\n",
       "         ...,\n",
       "         [0.52156863],\n",
       "         [0.5254902 ],\n",
       "         [0.51372549]],\n",
       "\n",
       "        [[0.55294118],\n",
       "         [0.54509804],\n",
       "         [0.55294118],\n",
       "         ...,\n",
       "         [0.54117647],\n",
       "         [0.54509804],\n",
       "         [0.5372549 ]],\n",
       "\n",
       "        ...,\n",
       "\n",
       "        [[0.05098039],\n",
       "         [0.03137255],\n",
       "         [0.14509804],\n",
       "         ...,\n",
       "         [0.65882353],\n",
       "         [0.78431373],\n",
       "         [1.        ]],\n",
       "\n",
       "        [[0.02745098],\n",
       "         [0.02352941],\n",
       "         [0.02352941],\n",
       "         ...,\n",
       "         [0.81960784],\n",
       "         [0.90588235],\n",
       "         [0.99607843]],\n",
       "\n",
       "        [[0.02745098],\n",
       "         [0.        ],\n",
       "         [0.00392157],\n",
       "         ...,\n",
       "         [0.98039216],\n",
       "         [0.95294118],\n",
       "         [0.98431373]]],\n",
       "\n",
       "\n",
       "       [[[0.94901961],\n",
       "         [0.94901961],\n",
       "         [0.94901961],\n",
       "         ...,\n",
       "         [0.74901961],\n",
       "         [0.89803922],\n",
       "         [0.85882353]],\n",
       "\n",
       "        [[0.95686275],\n",
       "         [0.92941176],\n",
       "         [0.96078431],\n",
       "         ...,\n",
       "         [0.3372549 ],\n",
       "         [0.91372549],\n",
       "         [0.87058824]],\n",
       "\n",
       "        [[0.94901961],\n",
       "         [0.95294118],\n",
       "         [0.97254902],\n",
       "         ...,\n",
       "         [0.02352941],\n",
       "         [0.68627451],\n",
       "         [0.90980392]],\n",
       "\n",
       "        ...,\n",
       "\n",
       "        [[0.7372549 ],\n",
       "         [0.76862745],\n",
       "         [0.80784314],\n",
       "         ...,\n",
       "         [0.78823529],\n",
       "         [0.80392157],\n",
       "         [0.83921569]],\n",
       "\n",
       "        [[0.83921569],\n",
       "         [0.83529412],\n",
       "         [0.85098039],\n",
       "         ...,\n",
       "         [0.74117647],\n",
       "         [0.8       ],\n",
       "         [0.82745098]],\n",
       "\n",
       "        [[0.87058824],\n",
       "         [0.8627451 ],\n",
       "         [0.87058824],\n",
       "         ...,\n",
       "         [0.66666667],\n",
       "         [0.76470588],\n",
       "         [0.79607843]]],\n",
       "\n",
       "\n",
       "       [[[0.76078431],\n",
       "         [0.77254902],\n",
       "         [0.74901961],\n",
       "         ...,\n",
       "         [0.88235294],\n",
       "         [0.96078431],\n",
       "         [1.        ]],\n",
       "\n",
       "        [[0.74901961],\n",
       "         [0.74901961],\n",
       "         [0.69411765],\n",
       "         ...,\n",
       "         [0.86666667],\n",
       "         [0.92941176],\n",
       "         [0.98431373]],\n",
       "\n",
       "        [[0.7254902 ],\n",
       "         [0.7254902 ],\n",
       "         [0.65490196],\n",
       "         ...,\n",
       "         [0.85098039],\n",
       "         [0.90196078],\n",
       "         [0.96862745]],\n",
       "\n",
       "        ...,\n",
       "\n",
       "        [[1.        ],\n",
       "         [0.95686275],\n",
       "         [0.71764706],\n",
       "         ...,\n",
       "         [0.99215686],\n",
       "         [1.        ],\n",
       "         [1.        ]],\n",
       "\n",
       "        [[0.98823529],\n",
       "         [0.83529412],\n",
       "         [0.7254902 ],\n",
       "         ...,\n",
       "         [0.99215686],\n",
       "         [1.        ],\n",
       "         [1.        ]],\n",
       "\n",
       "        [[0.91372549],\n",
       "         [0.74509804],\n",
       "         [0.7372549 ],\n",
       "         ...,\n",
       "         [1.        ],\n",
       "         [1.        ],\n",
       "         [1.        ]]]])"
      ]
     },
     "execution_count": 24,
     "metadata": {},
     "output_type": "execute_result"
    }
   ],
   "source": [
    "x_train"
   ]
  },
  {
   "cell_type": "code",
   "execution_count": 25,
   "id": "1b6c4589",
   "metadata": {},
   "outputs": [
    {
     "data": {
      "text/plain": [
       "array([[[0.19607843],\n",
       "        [0.1254902 ],\n",
       "        [0.05882353],\n",
       "        ...,\n",
       "        [0.52156863],\n",
       "        [0.59215686],\n",
       "        [0.3372549 ]],\n",
       "\n",
       "       [[0.22352941],\n",
       "        [0.13333333],\n",
       "        [0.08627451],\n",
       "        ...,\n",
       "        [0.54117647],\n",
       "        [0.59215686],\n",
       "        [0.34901961]],\n",
       "\n",
       "       [[0.23921569],\n",
       "        [0.11764706],\n",
       "        [0.09411765],\n",
       "        ...,\n",
       "        [0.55686275],\n",
       "        [0.58431373],\n",
       "        [0.34901961]],\n",
       "\n",
       "       ...,\n",
       "\n",
       "       [[0.40392157],\n",
       "        [0.39215686],\n",
       "        [0.39215686],\n",
       "        ...,\n",
       "        [0.58431373],\n",
       "        [0.40784314],\n",
       "        [0.33333333]],\n",
       "\n",
       "       [[0.41960784],\n",
       "        [0.43529412],\n",
       "        [0.44313725],\n",
       "        ...,\n",
       "        [0.59215686],\n",
       "        [0.47058824],\n",
       "        [0.3372549 ]],\n",
       "\n",
       "       [[0.40784314],\n",
       "        [0.40784314],\n",
       "        [0.43921569],\n",
       "        ...,\n",
       "        [0.56078431],\n",
       "        [0.53333333],\n",
       "        [0.3254902 ]]])"
      ]
     },
     "execution_count": 25,
     "metadata": {},
     "output_type": "execute_result"
    }
   ],
   "source": [
    "x_train[0]"
   ]
  },
  {
   "cell_type": "code",
   "execution_count": 26,
   "id": "89a41a6e",
   "metadata": {},
   "outputs": [
    {
     "data": {
      "text/plain": [
       "((7178, 48, 48, 1), (7178, 7))"
      ]
     },
     "execution_count": 26,
     "metadata": {},
     "output_type": "execute_result"
    }
   ],
   "source": [
    "x_test.shape, y_test.shape "
   ]
  },
  {
   "cell_type": "code",
   "execution_count": 27,
   "id": "c654fd66",
   "metadata": {},
   "outputs": [
    {
     "data": {
      "text/plain": [
       "((28709, 48, 48, 1), (28709, 7))"
      ]
     },
     "execution_count": 27,
     "metadata": {},
     "output_type": "execute_result"
    }
   ],
   "source": [
    "x_train.shape, y_train.shape "
   ]
  },
  {
   "cell_type": "markdown",
   "id": "7b2bf752",
   "metadata": {},
   "source": [
    "# Model Building"
   ]
  },
  {
   "cell_type": "code",
   "execution_count": 28,
   "id": "549be951",
   "metadata": {},
   "outputs": [],
   "source": [
    "from tensorflow.keras.models import Sequential\n",
    "from tensorflow.keras.optimizers import Adam"
   ]
  },
  {
   "cell_type": "code",
   "execution_count": 35,
   "id": "fee54090",
   "metadata": {},
   "outputs": [
    {
     "name": "stdout",
     "output_type": "stream",
     "text": [
      "Model: \"sequential_6\"\n",
      "_________________________________________________________________\n",
      " Layer (type)                Output Shape              Param #   \n",
      "=================================================================\n",
      " conv2d_28 (Conv2D)          (None, 46, 46, 128)       1280      \n",
      "                                                                 \n",
      " max_pooling2d_24 (MaxPooli  (None, 23, 23, 128)       0         \n",
      " ng2D)                                                           \n",
      "                                                                 \n",
      " dropout_24 (Dropout)        (None, 23, 23, 128)       0         \n",
      "                                                                 \n",
      " conv2d_29 (Conv2D)          (None, 21, 21, 256)       295168    \n",
      "                                                                 \n",
      " max_pooling2d_25 (MaxPooli  (None, 10, 10, 256)       0         \n",
      " ng2D)                                                           \n",
      "                                                                 \n",
      " dropout_25 (Dropout)        (None, 10, 10, 256)       0         \n",
      "                                                                 \n",
      " conv2d_30 (Conv2D)          (None, 8, 8, 512)         1180160   \n",
      "                                                                 \n",
      " max_pooling2d_26 (MaxPooli  (None, 4, 4, 512)         0         \n",
      " ng2D)                                                           \n",
      "                                                                 \n",
      " dropout_26 (Dropout)        (None, 4, 4, 512)         0         \n",
      "                                                                 \n",
      " conv2d_31 (Conv2D)          (None, 2, 2, 512)         2359808   \n",
      "                                                                 \n",
      " max_pooling2d_27 (MaxPooli  (None, 1, 1, 512)         0         \n",
      " ng2D)                                                           \n",
      "                                                                 \n",
      " dropout_27 (Dropout)        (None, 1, 1, 512)         0         \n",
      "                                                                 \n",
      " flatten_2 (Flatten)         (None, 512)               0         \n",
      "                                                                 \n",
      " dense_6 (Dense)             (None, 512)               262656    \n",
      "                                                                 \n",
      " dropout_28 (Dropout)        (None, 512)               0         \n",
      "                                                                 \n",
      " dense_7 (Dense)             (None, 256)               131328    \n",
      "                                                                 \n",
      " dropout_29 (Dropout)        (None, 256)               0         \n",
      "                                                                 \n",
      " dense_8 (Dense)             (None, 7)                 1799      \n",
      "                                                                 \n",
      "=================================================================\n",
      "Total params: 4232199 (16.14 MB)\n",
      "Trainable params: 4232199 (16.14 MB)\n",
      "Non-trainable params: 0 (0.00 Byte)\n",
      "_________________________________________________________________\n"
     ]
    }
   ],
   "source": [
    "model = Sequential()\n",
    "# Convolutional layer\n",
    "model.add(Conv2D(128,kernel_size=(3,3), activation='relu',input_shape=(48,48,1)))\n",
    "model.add(MaxPooling2D(pool_size=(2,2)))\n",
    "model.add(Dropout(0.4))\n",
    "\n",
    "model.add(Conv2D(256,kernel_size=(3,3), activation='relu'))\n",
    "model.add(MaxPooling2D(pool_size=(2,2)))\n",
    "model.add(Dropout(0.4))\n",
    "\n",
    "model.add(Conv2D(512,kernel_size=(3,3), activation='relu'))\n",
    "model.add(MaxPooling2D(pool_size=(2,2)))\n",
    "model.add(Dropout(0.4))\n",
    "\n",
    "model.add(Conv2D(512,kernel_size=(3,3), activation='relu'))\n",
    "model.add(MaxPooling2D(pool_size=(2,2)))\n",
    "model.add(Dropout(0.4))\n",
    "\n",
    "\n",
    "model.add(Flatten())\n",
    "\n",
    "# fully connected layers\n",
    "model.add(Dense(512, activation='relu'))\n",
    "model.add(Dropout(0.4))\n",
    "model.add(Dense(256, activation='relu'))\n",
    "model.add(Dropout(0.3))\n",
    "\n",
    "# output layer\n",
    "model.add(Dense(7, activation='softmax'))\n",
    "\n",
    "opt = Adam(learning_rate= 0.0001)\n",
    "model.compile(optimizer=opt,loss='categorical_crossentropy', metrics=['accuracy'])\n",
    "model.summary()"
   ]
  },
  {
   "cell_type": "code",
   "execution_count": 29,
   "id": "3633f077",
   "metadata": {},
   "outputs": [],
   "source": [
    "def relu(x):\n",
    "    return max(0, x)"
   ]
  },
  {
   "cell_type": "code",
   "execution_count": null,
   "id": "3c978853",
   "metadata": {},
   "outputs": [],
   "source": [
    "import numpy as np\n",
    "\n",
    "# Custom ReLU activation function\n",
    "def relu(x):\n",
    "    return np.maximum(0, x)\n",
    "\n",
    "# Convolutional layer\n",
    "def conv2d(input_data, num_filters, filter_size, activation):\n",
    "    # Random initialization of weights and biases\n",
    "    weights = np.random.randn(filter_size[0], filter_size[1], input_data.shape[-1], num_filters)\n",
    "    biases = np.zeros((1, 1, 1, num_filters))\n",
    "\n",
    "    conv_output = np.zeros((input_data.shape[0] - filter_size[0] + 1,\n",
    "                            input_data.shape[1] - filter_size[1] + 1,\n",
    "                            num_filters))\n",
    "\n",
    "    # Convolution operation\n",
    "    for f in range(num_filters):\n",
    "        for h in range(conv_output.shape[0]):\n",
    "            for w in range(conv_output.shape[1]):\n",
    "                conv_output[h, w, f] = np.sum(input_data[h:h+filter_size[0], w:w+filter_size[1]] * weights[:, :, :, f]) + biases[:, :, :, f]\n",
    "\n",
    "    # Activation function\n",
    "    if activation == 'relu':\n",
    "        return relu(conv_output)\n",
    "    else:\n",
    "        return conv_output\n",
    "\n",
    "# Max pooling layer\n",
    "def max_pooling(input_data, pool_size):\n",
    "    pooled_output = np.zeros((input_data.shape[0] // pool_size[0],\n",
    "                              input_data.shape[1] // pool_size[1],\n",
    "                              input_data.shape[2]))\n",
    "    \n",
    "    for h in range(0, input_data.shape[0], pool_size[0]):\n",
    "        for w in range(0, input_data.shape[1], pool_size[1]):\n",
    "            for f in range(input_data.shape[2]):\n",
    "                pooled_output[h // pool_size[0], w // pool_size[1], f] = np.max(input_data[h:h+pool_size[0], w:w+pool_size[1], f])\n",
    "\n",
    "    return pooled_output\n",
    "\n",
    "# Dropout layer\n",
    "def dropout(input_data, rate):\n",
    "    keep_prob = 1 - rate\n",
    "    mask = np.random.rand(*input_data.shape) < keep_prob\n",
    "    return input_data * mask / keep_prob\n",
    "\n",
    "# Fully connected layer\n",
    "def dense(input_data, units, activation):\n",
    "    # Random initialization of weights and biases\n",
    "    weights = np.random.randn(input_data.shape[1], units)\n",
    "    biases = np.zeros((1, units))\n",
    "\n",
    "    output = np.dot(input_data, weights) + biases\n",
    "\n",
    "    # Activation function\n",
    "    if activation == 'relu':\n",
    "        return relu(output)\n",
    "    else:\n",
    "        return output\n",
    "\n",
    "# Input shape\n",
    "input_shape = (48, 48, 1)\n",
    "\n",
    "# Number of classes\n",
    "num_classes = 7\n",
    "\n",
    "# Input placeholder\n",
    "inputs = np.zeros((input_shape[0], input_shape[1], input_shape[2]))\n",
    "\n",
    "# Convolutional layers\n",
    "conv1 = conv2d(inputs, num_filters=128, filter_size=(3, 3), activation='relu')\n",
    "pool1 = max_pooling(conv1, pool_size=(2, 2))\n",
    "dropout1 = dropout(pool1, rate=0.4)\n",
    "\n",
    "conv2 = conv2d(dropout1, num_filters=256, filter_size=(3, 3), activation='relu')\n",
    "pool2 = max_pooling(conv2, pool_size=(2, 2))\n",
    "dropout2 = dropout(pool2, rate=0.4)\n",
    "\n",
    "conv3 = conv2d(dropout2, num_filters=512, filter_size=(3, 3), activation='relu')\n",
    "pool3 = max_pooling(conv3, pool_size=(2, 2))\n",
    "dropout3 = dropout(pool3, rate=0.4)\n",
    "\n",
    "conv4 = conv2d(dropout3, num_filters=512, filter_size=(3, 3), activation='relu')\n",
    "pool4 = max_pooling(conv4, pool_size=(2, 2))\n",
    "dropout4 = dropout(pool4, rate=0.4)\n",
    "\n",
    "# Flatten layer\n",
    "flatten = dropout4.reshape((dropout4.shape[0], -1))\n",
    "\n",
    "# Fully connected layers\n",
    "dense1 = dense(flatten, units=512, activation='relu')\n",
    "dropout5 = dropout(dense1, rate=0.4)\n",
    "\n",
    "dense2 = dense(dropout5, units=256, activation='relu')\n",
    "dropout6 = dropout(dense2, rate=0.3)\n",
    "\n",
    "# Output layer\n",
    "output = dense(dropout6, units=num_classes, activation='softmax')\n",
    "\n",
    "# Print model summary\n",
    "print(\"Model Summary:\")\n",
    "print(\"--------------\")\n",
    "print(\"Input Shape:\", inputs.shape)\n",
    "print(\"Conv1 Shape:\", conv1.shape)\n",
    "print(\"Pool1 Shape:\", pool1.shape)\n",
    "print(\"Conv2 Shape:\", conv2.shape)\n",
    "print(\"Pool2 Shape:\", pool2.shape)\n",
    "print(\"Conv3 Shape:\", conv3.shape)\n",
    "print(\"Pool3 Shape:\", pool3.shape)\n",
    "print(\"Conv4 Shape:\", conv4.shape)\n",
    "print(\"Pool4 Shape:\", pool4.shape)\n",
    "print(\"Flatten Shape:\", flatten.shape)\n",
    "print(\"Dense1 Shape:\", dense1.shape)\n",
    "print(\"Dense2 Shape:\", dense2.shape)\n",
    "print(\"Output Shape:\", output.shape)"
   ]
  },
  {
   "cell_type": "code",
   "execution_count": 36,
   "id": "ccfd94f9",
   "metadata": {},
   "outputs": [
    {
     "name": "stdout",
     "output_type": "stream",
     "text": [
      "Model: \"sequential_7\"\n",
      "_________________________________________________________________\n",
      " Layer (type)                Output Shape              Param #   \n",
      "=================================================================\n",
      " conv2d_32 (Conv2D)          (None, 46, 46, 128)       1280      \n",
      "                                                                 \n",
      " max_pooling2d_28 (MaxPooli  (None, 23, 23, 128)       0         \n",
      " ng2D)                                                           \n",
      "                                                                 \n",
      " dropout_30 (Dropout)        (None, 23, 23, 128)       0         \n",
      "                                                                 \n",
      " conv2d_33 (Conv2D)          (None, 21, 21, 256)       295168    \n",
      "                                                                 \n",
      " max_pooling2d_29 (MaxPooli  (None, 10, 10, 256)       0         \n",
      " ng2D)                                                           \n",
      "                                                                 \n",
      " dropout_31 (Dropout)        (None, 10, 10, 256)       0         \n",
      "                                                                 \n",
      " conv2d_34 (Conv2D)          (None, 8, 8, 512)         1180160   \n",
      "                                                                 \n",
      " dropout_32 (Dropout)        (None, 8, 8, 512)         0         \n",
      "                                                                 \n",
      " conv2d_35 (Conv2D)          (None, 6, 6, 512)         2359808   \n",
      "                                                                 \n",
      " dropout_33 (Dropout)        (None, 6, 6, 512)         0         \n",
      "                                                                 \n",
      " conv2d_36 (Conv2D)          (None, 4, 4, 512)         2359808   \n",
      "                                                                 \n",
      " max_pooling2d_30 (MaxPooli  (None, 2, 2, 512)         0         \n",
      " ng2D)                                                           \n",
      "                                                                 \n",
      " dropout_34 (Dropout)        (None, 2, 2, 512)         0         \n",
      "                                                                 \n",
      " flatten_3 (Flatten)         (None, 2048)              0         \n",
      "                                                                 \n",
      " dense_9 (Dense)             (None, 512)               1049088   \n",
      "                                                                 \n",
      " dropout_35 (Dropout)        (None, 512)               0         \n",
      "                                                                 \n",
      " dense_10 (Dense)            (None, 256)               131328    \n",
      "                                                                 \n",
      " dropout_36 (Dropout)        (None, 256)               0         \n",
      "                                                                 \n",
      " dense_11 (Dense)            (None, 7)                 1799      \n",
      "                                                                 \n",
      "=================================================================\n",
      "Total params: 7378439 (28.15 MB)\n",
      "Trainable params: 7378439 (28.15 MB)\n",
      "Non-trainable params: 0 (0.00 Byte)\n",
      "_________________________________________________________________\n"
     ]
    }
   ],
   "source": [
    "model = Sequential()\n",
    "\n",
    "# Convolutional layers\n",
    "model.add(Conv2D(128, kernel_size=(3, 3), activation='relu', input_shape=(48, 48, 1)))\n",
    "model.add(MaxPooling2D(pool_size=(2, 2)))\n",
    "model.add(Dropout(0.4))\n",
    "\n",
    "model.add(Conv2D(256, kernel_size=(3, 3), activation='relu'))\n",
    "model.add(MaxPooling2D(pool_size=(2, 2)))\n",
    "model.add(Dropout(0.4))\n",
    "\n",
    "model.add(Conv2D(512, kernel_size=(3, 3), activation='relu'))\n",
    "model.add(Dropout(0.4))\n",
    "\n",
    "model.add(Conv2D(512, kernel_size=(3, 3), activation='relu'))\n",
    "model.add(Dropout(0.4))\n",
    "\n",
    "model.add(Conv2D(512, kernel_size=(3, 3), activation='relu'))\n",
    "model.add(MaxPooling2D(pool_size=(2, 2)))  \n",
    "model.add(Dropout(0.4))\n",
    "\n",
    "# Flattening layer\n",
    "model.add(Flatten())\n",
    "\n",
    "# Fully connected layers\n",
    "model.add(Dense(512, activation='relu'))\n",
    "model.add(Dropout(0.4))\n",
    "\n",
    "model.add(Dense(256, activation='relu'))\n",
    "model.add(Dropout(0.3))\n",
    "\n",
    "# Output layer\n",
    "model.add(Dense(7, activation='softmax'))\n",
    "\n",
    "# Model compilation\n",
    "opt = Adam(learning_rate=0.0001)\n",
    "model.compile(optimizer=opt, loss='categorical_crossentropy', metrics=['accuracy'])\n",
    "\n",
    "# Model summary\n",
    "model.summary()"
   ]
  },
  {
   "cell_type": "code",
   "execution_count": 50,
   "id": "64663b98",
   "metadata": {},
   "outputs": [],
   "source": [
    "model.compile(optimizer='Adam', loss='categorical_crossentropy',metrics='accuracy')"
   ]
  },
  {
   "cell_type": "code",
   "execution_count": 38,
   "id": "921f8b0d",
   "metadata": {},
   "outputs": [
    {
     "name": "stdout",
     "output_type": "stream",
     "text": [
      "Epoch 1/100\n",
      "WARNING:tensorflow:From c:\\Users\\ashmi\\AppData\\Local\\Programs\\Python\\Python311\\Lib\\site-packages\\keras\\src\\utils\\tf_utils.py:492: The name tf.ragged.RaggedTensorValue is deprecated. Please use tf.compat.v1.ragged.RaggedTensorValue instead.\n",
      "\n",
      "WARNING:tensorflow:From c:\\Users\\ashmi\\AppData\\Local\\Programs\\Python\\Python311\\Lib\\site-packages\\keras\\src\\engine\\base_layer_utils.py:384: The name tf.executing_eagerly_outside_functions is deprecated. Please use tf.compat.v1.executing_eagerly_outside_functions instead.\n",
      "\n",
      "225/225 [==============================] - 154s 676ms/step - loss: 1.8221 - accuracy: 0.2478 - val_loss: 1.8133 - val_accuracy: 0.2471\n",
      "Epoch 2/100\n",
      "225/225 [==============================] - 150s 668ms/step - loss: 1.8139 - accuracy: 0.2509 - val_loss: 1.8012 - val_accuracy: 0.2524\n",
      "Epoch 3/100\n",
      "225/225 [==============================] - 150s 667ms/step - loss: 1.7452 - accuracy: 0.2797 - val_loss: 1.6496 - val_accuracy: 0.3267\n",
      "Epoch 4/100\n",
      "225/225 [==============================] - 150s 669ms/step - loss: 1.6161 - accuracy: 0.3527 - val_loss: 1.4913 - val_accuracy: 0.4223\n",
      "Epoch 5/100\n",
      "225/225 [==============================] - 152s 677ms/step - loss: 1.5119 - accuracy: 0.4097 - val_loss: 1.4069 - val_accuracy: 0.4512\n",
      "Epoch 6/100\n",
      "225/225 [==============================] - 151s 670ms/step - loss: 1.4521 - accuracy: 0.4425 - val_loss: 1.3323 - val_accuracy: 0.4862\n",
      "Epoch 7/100\n",
      "225/225 [==============================] - 150s 664ms/step - loss: 1.4000 - accuracy: 0.4619 - val_loss: 1.2930 - val_accuracy: 0.5035\n",
      "Epoch 8/100\n",
      "225/225 [==============================] - 150s 667ms/step - loss: 1.3671 - accuracy: 0.4740 - val_loss: 1.2669 - val_accuracy: 0.5102\n",
      "Epoch 9/100\n",
      "225/225 [==============================] - 148s 656ms/step - loss: 1.3513 - accuracy: 0.4814 - val_loss: 1.2482 - val_accuracy: 0.5153\n",
      "Epoch 10/100\n",
      "225/225 [==============================] - 164s 728ms/step - loss: 1.3157 - accuracy: 0.4985 - val_loss: 1.2231 - val_accuracy: 0.5304\n",
      "Epoch 11/100\n",
      "225/225 [==============================] - 158s 703ms/step - loss: 1.2989 - accuracy: 0.5021 - val_loss: 1.2182 - val_accuracy: 0.5329\n",
      "Epoch 12/100\n",
      "225/225 [==============================] - 146s 651ms/step - loss: 1.2834 - accuracy: 0.5095 - val_loss: 1.1819 - val_accuracy: 0.5502\n",
      "Epoch 13/100\n",
      "225/225 [==============================] - 146s 649ms/step - loss: 1.2672 - accuracy: 0.5157 - val_loss: 1.1805 - val_accuracy: 0.5467\n",
      "Epoch 14/100\n",
      "225/225 [==============================] - 144s 642ms/step - loss: 1.2572 - accuracy: 0.5182 - val_loss: 1.1837 - val_accuracy: 0.5499\n",
      "Epoch 15/100\n",
      "225/225 [==============================] - 167s 741ms/step - loss: 1.2435 - accuracy: 0.5280 - val_loss: 1.1490 - val_accuracy: 0.5591\n",
      "Epoch 16/100\n",
      "225/225 [==============================] - 162s 718ms/step - loss: 1.2314 - accuracy: 0.5336 - val_loss: 1.1552 - val_accuracy: 0.5568\n",
      "Epoch 17/100\n",
      "225/225 [==============================] - 148s 657ms/step - loss: 1.2217 - accuracy: 0.5358 - val_loss: 1.1401 - val_accuracy: 0.5607\n",
      "Epoch 18/100\n",
      "225/225 [==============================] - 143s 636ms/step - loss: 1.2136 - accuracy: 0.5370 - val_loss: 1.1232 - val_accuracy: 0.5692\n",
      "Epoch 19/100\n",
      "225/225 [==============================] - 144s 642ms/step - loss: 1.2025 - accuracy: 0.5423 - val_loss: 1.1263 - val_accuracy: 0.5698\n",
      "Epoch 20/100\n",
      "225/225 [==============================] - 148s 659ms/step - loss: 1.1875 - accuracy: 0.5458 - val_loss: 1.1172 - val_accuracy: 0.5678\n",
      "Epoch 21/100\n",
      "225/225 [==============================] - 151s 671ms/step - loss: 1.1793 - accuracy: 0.5537 - val_loss: 1.1108 - val_accuracy: 0.5756\n",
      "Epoch 22/100\n",
      "225/225 [==============================] - 147s 655ms/step - loss: 1.1754 - accuracy: 0.5568 - val_loss: 1.1120 - val_accuracy: 0.5713\n",
      "Epoch 23/100\n",
      "225/225 [==============================] - 154s 684ms/step - loss: 1.1749 - accuracy: 0.5519 - val_loss: 1.1060 - val_accuracy: 0.5709\n",
      "Epoch 24/100\n",
      "225/225 [==============================] - 155s 688ms/step - loss: 1.1626 - accuracy: 0.5583 - val_loss: 1.0998 - val_accuracy: 0.5719\n",
      "Epoch 25/100\n",
      "225/225 [==============================] - 144s 639ms/step - loss: 1.1626 - accuracy: 0.5566 - val_loss: 1.1159 - val_accuracy: 0.5754\n",
      "Epoch 26/100\n",
      "225/225 [==============================] - 139s 617ms/step - loss: 1.1521 - accuracy: 0.5622 - val_loss: 1.0994 - val_accuracy: 0.5772\n",
      "Epoch 27/100\n",
      "225/225 [==============================] - 144s 639ms/step - loss: 1.1511 - accuracy: 0.5645 - val_loss: 1.1021 - val_accuracy: 0.5801\n",
      "Epoch 28/100\n",
      "225/225 [==============================] - 148s 656ms/step - loss: 1.1396 - accuracy: 0.5687 - val_loss: 1.1005 - val_accuracy: 0.5775\n",
      "Epoch 29/100\n",
      "225/225 [==============================] - 146s 651ms/step - loss: 1.1396 - accuracy: 0.5660 - val_loss: 1.0894 - val_accuracy: 0.5846\n",
      "Epoch 30/100\n",
      "225/225 [==============================] - 150s 667ms/step - loss: 1.1229 - accuracy: 0.5748 - val_loss: 1.0744 - val_accuracy: 0.5914\n",
      "Epoch 31/100\n",
      "225/225 [==============================] - 151s 673ms/step - loss: 1.1231 - accuracy: 0.5749 - val_loss: 1.0788 - val_accuracy: 0.5855\n",
      "Epoch 32/100\n",
      "225/225 [==============================] - 146s 647ms/step - loss: 1.1158 - accuracy: 0.5781 - val_loss: 1.0825 - val_accuracy: 0.5899\n",
      "Epoch 33/100\n",
      "225/225 [==============================] - 143s 636ms/step - loss: 1.1133 - accuracy: 0.5791 - val_loss: 1.0772 - val_accuracy: 0.5880\n",
      "Epoch 34/100\n",
      "225/225 [==============================] - 152s 677ms/step - loss: 1.1071 - accuracy: 0.5787 - val_loss: 1.0756 - val_accuracy: 0.5938\n",
      "Epoch 35/100\n",
      "225/225 [==============================] - 148s 658ms/step - loss: 1.1101 - accuracy: 0.5773 - val_loss: 1.0951 - val_accuracy: 0.5790\n",
      "Epoch 36/100\n",
      "225/225 [==============================] - 148s 660ms/step - loss: 1.1028 - accuracy: 0.5816 - val_loss: 1.0805 - val_accuracy: 0.5858\n",
      "Epoch 37/100\n",
      "225/225 [==============================] - 149s 663ms/step - loss: 1.0916 - accuracy: 0.5887 - val_loss: 1.0710 - val_accuracy: 0.5942\n",
      "Epoch 38/100\n",
      "225/225 [==============================] - 150s 666ms/step - loss: 1.0990 - accuracy: 0.5834 - val_loss: 1.0793 - val_accuracy: 0.5896\n",
      "Epoch 39/100\n",
      "225/225 [==============================] - 158s 703ms/step - loss: 1.0849 - accuracy: 0.5897 - val_loss: 1.0886 - val_accuracy: 0.5869\n",
      "Epoch 40/100\n",
      "225/225 [==============================] - 163s 727ms/step - loss: 1.0796 - accuracy: 0.5933 - val_loss: 1.0816 - val_accuracy: 0.5874\n",
      "Epoch 41/100\n",
      "225/225 [==============================] - 161s 718ms/step - loss: 1.0859 - accuracy: 0.5845 - val_loss: 1.0599 - val_accuracy: 0.5991\n",
      "Epoch 42/100\n",
      "225/225 [==============================] - 163s 725ms/step - loss: 1.0797 - accuracy: 0.5893 - val_loss: 1.0678 - val_accuracy: 0.6006\n",
      "Epoch 43/100\n",
      "225/225 [==============================] - 161s 717ms/step - loss: 1.0695 - accuracy: 0.5965 - val_loss: 1.0689 - val_accuracy: 0.5910\n",
      "Epoch 44/100\n",
      "225/225 [==============================] - 155s 688ms/step - loss: 1.0621 - accuracy: 0.5978 - val_loss: 1.0740 - val_accuracy: 0.5967\n",
      "Epoch 45/100\n",
      "225/225 [==============================] - 152s 675ms/step - loss: 1.0682 - accuracy: 0.5968 - val_loss: 1.0578 - val_accuracy: 0.5981\n",
      "Epoch 46/100\n",
      "225/225 [==============================] - 156s 693ms/step - loss: 1.0618 - accuracy: 0.6017 - val_loss: 1.0703 - val_accuracy: 0.5936\n",
      "Epoch 47/100\n",
      "225/225 [==============================] - 159s 706ms/step - loss: 1.0537 - accuracy: 0.6012 - val_loss: 1.0516 - val_accuracy: 0.6042\n",
      "Epoch 48/100\n",
      "225/225 [==============================] - 144s 640ms/step - loss: 1.0488 - accuracy: 0.6050 - val_loss: 1.0487 - val_accuracy: 0.6106\n",
      "Epoch 49/100\n",
      "225/225 [==============================] - 144s 638ms/step - loss: 1.0508 - accuracy: 0.6032 - val_loss: 1.0601 - val_accuracy: 0.5988\n",
      "Epoch 50/100\n",
      "225/225 [==============================] - 143s 635ms/step - loss: 1.0485 - accuracy: 0.6040 - val_loss: 1.0448 - val_accuracy: 0.6067\n",
      "Epoch 51/100\n",
      "225/225 [==============================] - 149s 663ms/step - loss: 1.0382 - accuracy: 0.6068 - val_loss: 1.0509 - val_accuracy: 0.6009\n",
      "Epoch 52/100\n",
      "225/225 [==============================] - 146s 650ms/step - loss: 1.0373 - accuracy: 0.6110 - val_loss: 1.0530 - val_accuracy: 0.6010\n",
      "Epoch 53/100\n",
      "225/225 [==============================] - 145s 643ms/step - loss: 1.0436 - accuracy: 0.6092 - val_loss: 1.0576 - val_accuracy: 0.6027\n",
      "Epoch 54/100\n",
      "225/225 [==============================] - 146s 651ms/step - loss: 1.0359 - accuracy: 0.6108 - val_loss: 1.0564 - val_accuracy: 0.5992\n",
      "Epoch 55/100\n",
      "225/225 [==============================] - 143s 636ms/step - loss: 1.0252 - accuracy: 0.6103 - val_loss: 1.0834 - val_accuracy: 0.5984\n",
      "Epoch 56/100\n",
      "225/225 [==============================] - 144s 639ms/step - loss: 1.0261 - accuracy: 0.6149 - val_loss: 1.0456 - val_accuracy: 0.6004\n",
      "Epoch 57/100\n",
      "225/225 [==============================] - 145s 645ms/step - loss: 1.0196 - accuracy: 0.6154 - val_loss: 1.0500 - val_accuracy: 0.6006\n",
      "Epoch 58/100\n",
      "225/225 [==============================] - 146s 648ms/step - loss: 1.0202 - accuracy: 0.6132 - val_loss: 1.0571 - val_accuracy: 0.6064\n",
      "Epoch 59/100\n",
      "225/225 [==============================] - 148s 656ms/step - loss: 1.0163 - accuracy: 0.6153 - val_loss: 1.0553 - val_accuracy: 0.6043\n",
      "Epoch 60/100\n",
      "225/225 [==============================] - 143s 634ms/step - loss: 1.0198 - accuracy: 0.6152 - val_loss: 1.0546 - val_accuracy: 0.6042\n",
      "Epoch 61/100\n",
      "225/225 [==============================] - 144s 641ms/step - loss: 1.0142 - accuracy: 0.6186 - val_loss: 1.0712 - val_accuracy: 0.5924\n",
      "Epoch 62/100\n",
      "225/225 [==============================] - 144s 640ms/step - loss: 1.0160 - accuracy: 0.6148 - val_loss: 1.0447 - val_accuracy: 0.6071\n",
      "Epoch 63/100\n",
      "225/225 [==============================] - 148s 658ms/step - loss: 1.0106 - accuracy: 0.6179 - val_loss: 1.0537 - val_accuracy: 0.6003\n",
      "Epoch 64/100\n",
      "225/225 [==============================] - 145s 647ms/step - loss: 1.0026 - accuracy: 0.6198 - val_loss: 1.0347 - val_accuracy: 0.6076\n",
      "Epoch 65/100\n",
      "225/225 [==============================] - 151s 674ms/step - loss: 1.0052 - accuracy: 0.6228 - val_loss: 1.0603 - val_accuracy: 0.6035\n",
      "Epoch 66/100\n",
      "225/225 [==============================] - 152s 677ms/step - loss: 1.0042 - accuracy: 0.6211 - val_loss: 1.0468 - val_accuracy: 0.6096\n",
      "Epoch 67/100\n",
      "225/225 [==============================] - 155s 691ms/step - loss: 0.9947 - accuracy: 0.6272 - val_loss: 1.0434 - val_accuracy: 0.6080\n",
      "Epoch 68/100\n",
      "225/225 [==============================] - 164s 728ms/step - loss: 0.9904 - accuracy: 0.6304 - val_loss: 1.0399 - val_accuracy: 0.6045\n",
      "Epoch 69/100\n",
      "225/225 [==============================] - 155s 689ms/step - loss: 0.9964 - accuracy: 0.6248 - val_loss: 1.0421 - val_accuracy: 0.6070\n",
      "Epoch 70/100\n",
      "225/225 [==============================] - 155s 688ms/step - loss: 0.9819 - accuracy: 0.6322 - val_loss: 1.0601 - val_accuracy: 0.5985\n",
      "Epoch 71/100\n",
      "225/225 [==============================] - 155s 687ms/step - loss: 0.9878 - accuracy: 0.6271 - val_loss: 1.0334 - val_accuracy: 0.6131\n",
      "Epoch 72/100\n",
      "225/225 [==============================] - 156s 693ms/step - loss: 0.9825 - accuracy: 0.6313 - val_loss: 1.0412 - val_accuracy: 0.6069\n",
      "Epoch 73/100\n",
      "225/225 [==============================] - 145s 646ms/step - loss: 0.9823 - accuracy: 0.6314 - val_loss: 1.0520 - val_accuracy: 0.6053\n",
      "Epoch 74/100\n",
      "225/225 [==============================] - 144s 639ms/step - loss: 0.9795 - accuracy: 0.6308 - val_loss: 1.0440 - val_accuracy: 0.6115\n",
      "Epoch 75/100\n",
      "225/225 [==============================] - 142s 632ms/step - loss: 0.9835 - accuracy: 0.6309 - val_loss: 1.0494 - val_accuracy: 0.6053\n",
      "Epoch 76/100\n",
      "225/225 [==============================] - 147s 655ms/step - loss: 0.9772 - accuracy: 0.6308 - val_loss: 1.0575 - val_accuracy: 0.6020\n",
      "Epoch 77/100\n",
      "225/225 [==============================] - 152s 674ms/step - loss: 0.9681 - accuracy: 0.6343 - val_loss: 1.0361 - val_accuracy: 0.6205\n",
      "Epoch 78/100\n",
      "225/225 [==============================] - 144s 638ms/step - loss: 0.9738 - accuracy: 0.6336 - val_loss: 1.0330 - val_accuracy: 0.6152\n",
      "Epoch 79/100\n",
      "225/225 [==============================] - 145s 644ms/step - loss: 0.9595 - accuracy: 0.6397 - val_loss: 1.0371 - val_accuracy: 0.6186\n",
      "Epoch 80/100\n",
      "225/225 [==============================] - 150s 668ms/step - loss: 0.9720 - accuracy: 0.6370 - val_loss: 1.0456 - val_accuracy: 0.6087\n",
      "Epoch 81/100\n",
      "225/225 [==============================] - 152s 675ms/step - loss: 0.9640 - accuracy: 0.6350 - val_loss: 1.0434 - val_accuracy: 0.6080\n",
      "Epoch 82/100\n",
      "225/225 [==============================] - 149s 660ms/step - loss: 0.9595 - accuracy: 0.6410 - val_loss: 1.0258 - val_accuracy: 0.6172\n",
      "Epoch 83/100\n",
      "225/225 [==============================] - 148s 658ms/step - loss: 0.9593 - accuracy: 0.6421 - val_loss: 1.0255 - val_accuracy: 0.6183\n",
      "Epoch 84/100\n",
      "225/225 [==============================] - 152s 678ms/step - loss: 0.9519 - accuracy: 0.6406 - val_loss: 1.0410 - val_accuracy: 0.6144\n",
      "Epoch 85/100\n",
      "225/225 [==============================] - 146s 651ms/step - loss: 0.9571 - accuracy: 0.6426 - val_loss: 1.0449 - val_accuracy: 0.6138\n",
      "Epoch 86/100\n",
      "225/225 [==============================] - 144s 640ms/step - loss: 0.9486 - accuracy: 0.6471 - val_loss: 1.0417 - val_accuracy: 0.6096\n",
      "Epoch 87/100\n",
      "225/225 [==============================] - 149s 662ms/step - loss: 0.9527 - accuracy: 0.6451 - val_loss: 1.0406 - val_accuracy: 0.6147\n",
      "Epoch 88/100\n",
      "225/225 [==============================] - 145s 644ms/step - loss: 0.9501 - accuracy: 0.6477 - val_loss: 1.0348 - val_accuracy: 0.6155\n",
      "Epoch 89/100\n",
      "225/225 [==============================] - 148s 657ms/step - loss: 0.9444 - accuracy: 0.6441 - val_loss: 1.0562 - val_accuracy: 0.6046\n",
      "Epoch 90/100\n",
      "225/225 [==============================] - 149s 664ms/step - loss: 0.9425 - accuracy: 0.6484 - val_loss: 1.0411 - val_accuracy: 0.6131\n",
      "Epoch 91/100\n",
      "225/225 [==============================] - 146s 651ms/step - loss: 0.9347 - accuracy: 0.6544 - val_loss: 1.0609 - val_accuracy: 0.6092\n",
      "Epoch 92/100\n",
      "225/225 [==============================] - 149s 660ms/step - loss: 0.9445 - accuracy: 0.6468 - val_loss: 1.0389 - val_accuracy: 0.6106\n",
      "Epoch 93/100\n",
      "225/225 [==============================] - 145s 643ms/step - loss: 0.9378 - accuracy: 0.6491 - val_loss: 1.0529 - val_accuracy: 0.6117\n",
      "Epoch 94/100\n",
      "225/225 [==============================] - 146s 651ms/step - loss: 0.9326 - accuracy: 0.6530 - val_loss: 1.0530 - val_accuracy: 0.6088\n",
      "Epoch 95/100\n",
      "225/225 [==============================] - 148s 657ms/step - loss: 0.9344 - accuracy: 0.6497 - val_loss: 1.0468 - val_accuracy: 0.6159\n",
      "Epoch 96/100\n",
      "225/225 [==============================] - 147s 653ms/step - loss: 0.9345 - accuracy: 0.6512 - val_loss: 1.0358 - val_accuracy: 0.6166\n",
      "Epoch 97/100\n",
      "225/225 [==============================] - 154s 687ms/step - loss: 0.9275 - accuracy: 0.6551 - val_loss: 1.0471 - val_accuracy: 0.6128\n",
      "Epoch 98/100\n",
      "225/225 [==============================] - 155s 689ms/step - loss: 0.9303 - accuracy: 0.6503 - val_loss: 1.0458 - val_accuracy: 0.6195\n",
      "Epoch 99/100\n",
      "225/225 [==============================] - 149s 661ms/step - loss: 0.9260 - accuracy: 0.6568 - val_loss: 1.0399 - val_accuracy: 0.6155\n",
      "Epoch 100/100\n",
      "225/225 [==============================] - 142s 633ms/step - loss: 0.9221 - accuracy: 0.6570 - val_loss: 1.0374 - val_accuracy: 0.6191\n"
     ]
    },
    {
     "data": {
      "text/plain": [
       "<keras.src.callbacks.History at 0x213a3a04750>"
      ]
     },
     "execution_count": 38,
     "metadata": {},
     "output_type": "execute_result"
    }
   ],
   "source": [
    "model.fit(x= x_train,y = y_train,batch_size= 128,epochs=100, validation_data=(x_test, y_test))"
   ]
  },
  {
   "cell_type": "code",
   "execution_count": 39,
   "id": "5816b30d",
   "metadata": {},
   "outputs": [],
   "source": [
    "from keras.models import model_from_json"
   ]
  },
  {
   "cell_type": "code",
   "execution_count": 54,
   "id": "d277ea40",
   "metadata": {},
   "outputs": [],
   "source": [
    "label = ['angry','disgust','fear','happy','neutral','sad','surprise']"
   ]
  },
  {
   "cell_type": "markdown",
   "id": "8b74ba76-5645-4b19-98eb-d7f759e64550",
   "metadata": {},
   "source": [
    "# predicting a model"
   ]
  },
  {
   "cell_type": "code",
   "execution_count": 55,
   "id": "749cce9e",
   "metadata": {},
   "outputs": [],
   "source": [
    "def ef(image):\n",
    "    img = load_img(image,grayscale =  True )\n",
    "    feature = np.array(img)\n",
    "    feature = feature.reshape(1,48,48,1)\n",
    "    return feature/255.0"
   ]
  },
  {
   "cell_type": "code",
   "execution_count": 56,
   "id": "9802bd93",
   "metadata": {},
   "outputs": [],
   "source": [
    "import matplotlib.pyplot as plot"
   ]
  },
  {
   "cell_type": "code",
   "execution_count": 57,
   "id": "29c5d516",
   "metadata": {},
   "outputs": [
    {
     "data": {
      "text/plain": [
       "<matplotlib.image.AxesImage at 0x214333d2f50>"
      ]
     },
     "execution_count": 57,
     "metadata": {},
     "output_type": "execute_result"
    },
    {
     "data": {
      "image/png": "[encoded data removed]",
      "text/plain": [
       "<Figure size 640x480 with 1 Axes>"
      ]
     },
     "metadata": {},
     "output_type": "display_data"
    }
   ],
   "source": [
    "plot.imshow(x_train[0], cmap='gray')"
   ]
  },
  {
   "cell_type": "code",
   "execution_count": 58,
   "id": "2016f01f-2b58-4dc3-957a-6aae891b07ba",
   "metadata": {},
   "outputs": [
    {
     "name": "stdout",
     "output_type": "stream",
     "text": [
      "original image is of surprise\n",
      "1/1 [==============================] - 0s 48ms/step\n",
      "model prediction is  surprise\n"
     ]
    },
    {
     "name": "stderr",
     "output_type": "stream",
     "text": [
      "c:\\Users\\ashmi\\AppData\\Local\\Programs\\Python\\Python311\\Lib\\site-packages\\keras_preprocessing\\image\\utils.py:107: UserWarning: grayscale is deprecated. Please use color_mode = \"grayscale\"\n",
      "  warnings.warn('grayscale is deprecated. Please use '\n"
     ]
    }
   ],
   "source": [
    "image = 'train/surprise/Training_353184.jpg'\n",
    "print(\"original image is of surprise\")\n",
    "img = ef(image)\n",
    "pred = model.predict(img)\n",
    "pred_label = label[pred.argmax()]\n",
    "print(\"model prediction is \",pred_label)"
   ]
  },
  {
   "cell_type": "code",
   "execution_count": 59,
   "id": "ee873461-4142-40e8-90af-82ae09b16fef",
   "metadata": {},
   "outputs": [
    {
     "name": "stdout",
     "output_type": "stream",
     "text": [
      "original image is of disgust\n",
      "1/1 [==============================] - 0s 48ms/step\n",
      "model prediction is  disgust\n"
     ]
    }
   ],
   "source": [
    "image = 'train/disgust/Training_5459858.jpg'\n",
    "print(\"original image is of disgust\")\n",
    "img = ef(image)\n",
    "pred = model.predict(img)\n",
    "pred_label = label[pred.argmax()]\n",
    "print(\"model prediction is \",pred_label)"
   ]
  },
  {
   "cell_type": "code",
   "execution_count": 60,
   "id": "58584b58-1dae-42dc-8773-f40aa7ff92fc",
   "metadata": {},
   "outputs": [
    {
     "name": "stdout",
     "output_type": "stream",
     "text": [
      "original image is of angry\n",
      "1/1 [==============================] - 0s 41ms/step\n",
      "model prediction is  angry\n"
     ]
    },
    {
     "data": {
      "text/plain": [
       "<matplotlib.image.AxesImage at 0x213a10e6f10>"
      ]
     },
     "execution_count": 60,
     "metadata": {},
     "output_type": "execute_result"
    },
    {
     "data": {
      "image/png": "[encoded data removed]",
      "text/plain": [
       "<Figure size 640x480 with 1 Axes>"
      ]
     },
     "metadata": {},
     "output_type": "display_data"
    }
   ],
   "source": [
    "image = 'train/angry/Training_1329550.jpg'\n",
    "print(\"original image is of angry\")\n",
    "img = ef(image)\n",
    "pred = model.predict(img)\n",
    "pred_label = label[pred.argmax()]\n",
    "print(\"model prediction is \",pred_label)\n",
    "plot.imshow(img.reshape(48,48),cmap='gray')"
   ]
  },
  {
   "cell_type": "code",
   "execution_count": 46,
   "id": "ef0a80ea-8be7-4dc5-89b6-1a221cf75074",
   "metadata": {},
   "outputs": [
    {
     "name": "stdout",
     "output_type": "stream",
     "text": [
      "original image is of neutral\n",
      "1/1 [==============================] - 0s 25ms/step\n",
      "model prediction is  neutral\n"
     ]
    },
    {
     "data": {
      "text/plain": [
       "<matplotlib.image.AxesImage at 0x191a5f2bd10>"
      ]
     },
     "execution_count": 46,
     "metadata": {},
     "output_type": "execute_result"
    },
    {
     "data": {
      "image/png": "[encoded data removed]",
      "text/plain": [
       "<Figure size 640x480 with 1 Axes>"
      ]
     },
     "metadata": {},
     "output_type": "display_data"
    }
   ],
   "source": [
    "image = 'train/neutral/Training_431269.jpg'\n",
    "print(\"original image is of neutral\")\n",
    "img = ef(image)\n",
    "pred = model.predict(img)\n",
    "pred_label = label[pred.argmax()]\n",
    "print(\"model prediction is \",pred_label)\n",
    "plot.imshow(img.reshape(48,48),cmap='gray')"
   ]
  },
  {
   "cell_type": "code",
   "execution_count": 47,
   "id": "148e0a03-48e2-4482-835e-8c870fe559ef",
   "metadata": {},
   "outputs": [
    {
     "name": "stdout",
     "output_type": "stream",
     "text": [
      "original image is of fear\n",
      "1/1 [==============================] - 0s 22ms/step\n",
      "model prediction is  fear\n"
     ]
    }
   ],
   "source": [
    "image = 'train/fear/Training_545062.jpg'\n",
    "print(\"original image is of fear\")\n",
    "img = ef(image)\n",
    "pred = model.predict(img)\n",
    "pred_label = label[pred.argmax()]\n",
    "print(\"model prediction is \",pred_label)"
   ]
  },
  {
   "cell_type": "code",
   "execution_count": 62,
   "id": "c0a0167a-1fa5-4711-acd7-9816208cc80a",
   "metadata": {},
   "outputs": [
    {
     "name": "stdout",
     "output_type": "stream",
     "text": [
      "original image is of fear\n",
      "1/1 [==============================] - 0s 10ms/step\n",
      "model prediction is  fear\n"
     ]
    },
    {
     "data": {
      "text/plain": [
       "<matplotlib.image.AxesImage at 0x1c2a2703cd0>"
      ]
     },
     "execution_count": 62,
     "metadata": {},
     "output_type": "execute_result"
    },
    {
     "data": {
      "image/png": "[encoded data removed]",
      "text/plain": [
       "<Figure size 640x480 with 1 Axes>"
      ]
     },
     "metadata": {},
     "output_type": "display_data"
    }
   ],
   "source": [
    "image = 'train/fear/Training_545062.jpg'\n",
    "print(\"original image is of fear\")\n",
    "img = ef(image)\n",
    "pred = model.predict(img)\n",
    "pred_label = label[pred.argmax()]\n",
    "print(\"model prediction is \",pred_label)\n",
    "plot.imshow(img.reshape(48,48),cmap='gray')"
   ]
  },
  {
   "cell_type": "markdown",
   "id": "e47debe1",
   "metadata": {},
   "source": [
    "# Fitting the model"
   ]
  },
  {
   "cell_type": "code",
   "execution_count": 40,
   "id": "e35b6fd9-0490-477a-a72f-b1979e20f566",
   "metadata": {},
   "outputs": [],
   "source": [
    "from keras.models import model_from_json"
   ]
  },
  {
   "cell_type": "code",
   "execution_count": 41,
   "id": "80551cd4-e667-4c0e-b879-376c336a646d",
   "metadata": {},
   "outputs": [
    {
     "name": "stderr",
     "output_type": "stream",
     "text": [
      "c:\\Users\\ashmi\\AppData\\Local\\Programs\\Python\\Python311\\Lib\\site-packages\\keras\\src\\engine\\training.py:3103: UserWarning: You are saving your model as an HDF5 file via `model.save()`. This file format is considered legacy. We recommend using instead the native Keras format, e.g. `model.save('my_model.keras')`.\n",
      "  saving_api.save_model(\n"
     ]
    }
   ],
   "source": [
    "model_json = model.to_json()\n",
    "with open(\"model.json\", \"w\") as json_file:\n",
    "    json_file.write(model_json)   \n",
    "model.save(\"model.h5\")"
   ]
  },
  {
   "cell_type": "code",
   "execution_count": 42,
   "id": "efb1506e",
   "metadata": {},
   "outputs": [],
   "source": [
    "(test_image, train_label), (test_image, test_label) = tf.keras.datasets.mnist.load_data()"
   ]
  },
  {
   "cell_type": "code",
   "execution_count": 43,
   "id": "dd3bec63-9be8-41ab-98b4-5f20ec9fcc92",
   "metadata": {},
   "outputs": [],
   "source": [
    "import tensorflow as tf"
   ]
  },
  {
   "cell_type": "code",
   "execution_count": 44,
   "id": "5a8607ec-eca1-43c0-98cc-12a55f7077d2",
   "metadata": {},
   "outputs": [],
   "source": [
    "model= tf.keras.models.load_model(\"model.h5\") "
   ]
  },
  {
   "cell_type": "code",
   "execution_count": 47,
   "id": "59145761",
   "metadata": {},
   "outputs": [
    {
     "name": "stdout",
     "output_type": "stream",
     "text": [
      "225/225 [==============================] - 11s 49ms/step\n"
     ]
    },
    {
     "data": {
      "image/png": "[encoded data removed]",
      "text/plain": [
       "<Figure size 800x600 with 2 Axes>"
      ]
     },
     "metadata": {},
     "output_type": "display_data"
    }
   ],
   "source": [
    "import numpy as np\n",
    "import matplotlib.pyplot as plt\n",
    "from sklearn.metrics import confusion_matrix\n",
    "import itertools\n",
    "\n",
    "# Assuming you have your x_test, y_test, and model already defined and trained\n",
    "\n",
    "# Get predicted labels for the test dataset\n",
    "predicted_labels = model.predict(x_test)\n",
    "predicted_labels = np.argmax(predicted_labels, axis=1)\n",
    "\n",
    "# Convert one-hot encoded true labels back to class labels if necessary\n",
    "true_labels = np.argmax(y_test, axis=1)\n",
    "\n",
    "# Define your labels\n",
    "labels = ['angry', 'disgust', 'fear', 'happy', 'neutral', 'sad', 'surprise']\n",
    "\n",
    "# Compute confusion matrix\n",
    "cm = confusion_matrix(true_labels, predicted_labels)\n",
    "\n",
    "# Plot confusion matrix\n",
    "plt.figure(figsize=(8, 6))\n",
    "plt.imshow(cm, interpolation='nearest', cmap=plt.cm.Blues)\n",
    "plt.title('Confusion Matrix')\n",
    "plt.colorbar()\n",
    "plt.xticks(np.arange(len(labels)), labels, rotation=45)\n",
    "plt.yticks(np.arange(len(labels)), labels)\n",
    "plt.xlabel('Predicted Label')\n",
    "plt.ylabel('True Label')\n",
    "\n",
    "# Annotate confusion matrix with counts\n",
    "thresh = cm.max() / 2.\n",
    "for i, j in itertools.product(range(cm.shape[0]), range(cm.shape[1])):\n",
    "    plt.text(j, i, format(cm[i, j], 'd'),\n",
    "             horizontalalignment=\"center\",\n",
    "             color=\"white\" if cm[i, j] > thresh else \"black\")\n",
    "\n",
    "plt.tight_layout()\n",
    "plt.show()"
   ]
  },
  {
   "cell_type": "code",
   "execution_count": 53,
   "id": "400bcc45",
   "metadata": {},
   "outputs": [
    {
     "name": "stdout",
     "output_type": "stream",
     "text": [
      "225/225 [==============================] - 11s 49ms/step\n",
      "Accuracy: 0.6191139593201449\n",
      "Precision: 0.5950257432063202\n",
      "Recall: 0.5857021624759878\n"
     ]
    }
   ],
   "source": [
    "from sklearn.metrics import accuracy_score, precision_score, recall_score\n",
    "\n",
    "# Assuming you have your x_test and y_test data\n",
    "# Assuming you have your model already defined and trained\n",
    "\n",
    "# Get predicted labels for the test dataset\n",
    "predicted_labels = model.predict(x_test)\n",
    "predicted_labels = np.argmax(predicted_labels, axis=1)\n",
    "\n",
    "# Convert one-hot encoded true labels back to class labels if necessary\n",
    "true_labels = np.argmax(y_test, axis=1)\n",
    "\n",
    "# Calculate accuracy\n",
    "accuracy = accuracy_score(true_labels, predicted_labels)\n",
    "print(\"Accuracy:\", accuracy)\n",
    "\n",
    "# Calculate precision\n",
    "precision = precision_score(true_labels, predicted_labels, average='macro')  # Use 'macro' for multiclass classification\n",
    "print(\"Precision:\", precision)\n",
    "\n",
    "# Calculate recall\n",
    "recall = recall_score(true_labels, predicted_labels, average='macro')  # Use 'macro' for multiclass classification\n",
    "print(\"Recall:\", recall)\n"
   ]
  },
  {
   "cell_type": "code",
   "execution_count": null,
   "id": "2d44a275",
   "metadata": {},
   "outputs": [],
   "source": []
  }
 ],
 "metadata": {
  "kernelspec": {
   "display_name": "Python 3 (ipykernel)",
   "language": "python",
   "name": "python3"
  },
  "language_info": {
   "codemirror_mode": {
    "name": "ipython",
    "version": 3
   },
   "file_extension": ".py",
   "mimetype": "text/x-python",
   "name": "python",
   "nbconvert_exporter": "python",
   "pygments_lexer": "ipython3",
   "version": "3.11.5"
  }
 },
 "nbformat": 4,
 "nbformat_minor": 5
}
